{
 "cells": [
  {
   "cell_type": "code",
   "execution_count": 61,
   "metadata": {},
   "outputs": [],
   "source": [
    "# Runner script for InfoVAE"
   ]
  },
  {
   "cell_type": "code",
   "execution_count": 1,
   "metadata": {},
   "outputs": [],
   "source": [
    "from IPython import display\n",
    "\n",
    "import glob\n",
    "import imageio\n",
    "import matplotlib.pyplot as plt\n",
    "import numpy as np\n",
    "import PIL\n",
    "import tensorflow as tf\n",
    "import time"
   ]
  },
  {
   "cell_type": "code",
   "execution_count": 2,
   "metadata": {},
   "outputs": [
    {
     "name": "stdout",
     "output_type": "stream",
     "text": [
      "Found 544 files belonging to 1 classes.\n",
      "Found 9664 files belonging to 1 classes.\n",
      "Found 1120 files belonging to 1 classes.\n",
      "WARNING:tensorflow:AutoGraph could not transform <function <lambda> at 0x0000027A3B721318> and will run it as-is.\n",
      "Please report this to the TensorFlow team. When filing the bug, set the verbosity to 10 (on Linux, `export AUTOGRAPH_VERBOSITY=10`) and attach the full output.\n",
      "Cause: 'arguments' object has no attribute 'posonlyargs'\n",
      "To silence this warning, decorate the function with @tf.autograph.experimental.do_not_convert\n",
      "WARNING: AutoGraph could not transform <function <lambda> at 0x0000027A3B721318> and will run it as-is.\n",
      "Please report this to the TensorFlow team. When filing the bug, set the verbosity to 10 (on Linux, `export AUTOGRAPH_VERBOSITY=10`) and attach the full output.\n",
      "Cause: 'arguments' object has no attribute 'posonlyargs'\n",
      "To silence this warning, decorate the function with @tf.autograph.experimental.do_not_convert\n",
      "WARNING:tensorflow:AutoGraph could not transform <function <lambda> at 0x0000027A3B7CCAF8> and will run it as-is.\n",
      "Please report this to the TensorFlow team. When filing the bug, set the verbosity to 10 (on Linux, `export AUTOGRAPH_VERBOSITY=10`) and attach the full output.\n",
      "Cause: 'arguments' object has no attribute 'posonlyargs'\n",
      "To silence this warning, decorate the function with @tf.autograph.experimental.do_not_convert\n",
      "WARNING: AutoGraph could not transform <function <lambda> at 0x0000027A3B7CCAF8> and will run it as-is.\n",
      "Please report this to the TensorFlow team. When filing the bug, set the verbosity to 10 (on Linux, `export AUTOGRAPH_VERBOSITY=10`) and attach the full output.\n",
      "Cause: 'arguments' object has no attribute 'posonlyargs'\n",
      "To silence this warning, decorate the function with @tf.autograph.experimental.do_not_convert\n",
      "WARNING:tensorflow:AutoGraph could not transform <function <lambda> at 0x0000027A4D6A5948> and will run it as-is.\n",
      "Please report this to the TensorFlow team. When filing the bug, set the verbosity to 10 (on Linux, `export AUTOGRAPH_VERBOSITY=10`) and attach the full output.\n",
      "Cause: 'arguments' object has no attribute 'posonlyargs'\n",
      "To silence this warning, decorate the function with @tf.autograph.experimental.do_not_convert\n",
      "WARNING: AutoGraph could not transform <function <lambda> at 0x0000027A4D6A5948> and will run it as-is.\n",
      "Please report this to the TensorFlow team. When filing the bug, set the verbosity to 10 (on Linux, `export AUTOGRAPH_VERBOSITY=10`) and attach the full output.\n",
      "Cause: 'arguments' object has no attribute 'posonlyargs'\n",
      "To silence this warning, decorate the function with @tf.autograph.experimental.do_not_convert\n"
     ]
    }
   ],
   "source": [
    "from data import train_x, test_x, valid_x\n",
    "\n",
    "train_size = 60000\n",
    "batch_size = 32\n",
    "test_size = 10000\n",
    "latent_dim = 2\n",
    "\n",
    "# normalise data\n",
    "train_x = train_x.map(lambda x: x / 255.)\n",
    "test_x = test_x.map(lambda x: x / 255.)\n",
    "valid_x = valid_x.map(lambda x: x / 255.)\n",
    "# test_xn = np.array(list(test_x.as_numpy_iterator())) / 255.\n",
    "# train_xn = np.array(list(train_x.as_numpy_iterator())) / 255.\n",
    "train_dataset = train_x\n",
    "test_dataset = test_x"
   ]
  },
  {
   "cell_type": "code",
   "execution_count": 3,
   "metadata": {},
   "outputs": [],
   "source": [
    "from tensorflow import keras\n",
    "from tensorflow.keras import datasets, layers, models, optimizers, losses\n",
    "from data import img_size\n",
    "model = None\n",
    "def get_encoder(latent_dim):\n",
    "    input_layer = layers.Input(shape=(img_size, img_size, 1))\n",
    "    c1 = layers.Conv2D(filters=32, kernel_size=3, activation='relu')(input_layer)\n",
    "    c2 = layers.Conv2D(filters=64, kernel_size=3, strides=(2, 2), activation='relu')(c1)\n",
    "    d1 = layers.Flatten()(c2)\n",
    "    d2 = layers.Dense(img_size, activation='relu')(d1)\n",
    "    d3 = layers.Dense(latent_dim)(d2)\n",
    "    return models.Model(inputs=input_layer, outputs=d3)\n",
    "\n",
    "def get_decoder(latent_dim):\n",
    "    input_layer = layers.Input(shape=(latent_dim, )) # Ensure this matches output of encoder network\n",
    "    d = layers.Dense(img_size, activation='relu')(input_layer)\n",
    "    d1 = layers.Dense((img_size//4)*(img_size//4)*32, activation='relu')(d)\n",
    "    r1 = layers.Reshape(target_shape=((img_size//4), (img_size//4), 32))(d1)\n",
    "    c1 = layers.Conv2DTranspose(filters=64, kernel_size=3, strides=2, padding='same', activation='relu')(r1)\n",
    "    c2 = layers.Conv2DTranspose(filters=32, kernel_size=3, strides=2, padding='same', activation='relu')(c1)\n",
    "    c3 = layers.Conv2DTranspose(filters=1, kernel_size=3, strides=1, padding='same')(c2)\n",
    "    return models.Model(inputs=input_layer, outputs=c3)\n",
    "\n",
    "class InfoVAE():\n",
    "    \"\"\"Convolutional variational autoencoder.\"\"\"\n",
    "\n",
    "    def __init__(self, latent_dim):\n",
    "        self.latent_dim = latent_dim\n",
    "        self.encoder = get_encoder(latent_dim)\n",
    "        self.decoder = get_decoder(latent_dim)\n",
    "        i = keras.Input(shape=(img_size, img_size, 1))\n",
    "        e = self.encoder(i)\n",
    "        x = self.decoder(e)\n",
    "        self.model = keras.Model(inputs=i, outputs=x)\n",
    "        self.optimizer = optimizers.Adam()\n",
    "\n",
    "    def _compute_kernel(self, x, y):\n",
    "        x_size = tf.shape(x)[0]\n",
    "        y_size = tf.shape(y)[0]\n",
    "        dim = tf.shape(x)[1]\n",
    "        tiled_x = tf.tile(tf.reshape(x, tf.stack([x_size, 1, dim])), tf.stack([1, y_size, 1]))\n",
    "        tiled_y = tf.tile(tf.reshape(y, tf.stack([1, y_size, dim])), tf.stack([x_size, 1, 1]))\n",
    "        return tf.exp(-tf.reduce_mean(tf.square(tiled_x - tiled_y), axis=2) / tf.cast(dim, tf.float32))\n",
    "\n",
    "    def _compute_mmd(self, x, y):\n",
    "        x_kernel = self._compute_kernel(x, x)\n",
    "        y_kernel = self._compute_kernel(y, y)\n",
    "        xy_kernel = self._compute_kernel(x, y)\n",
    "        return tf.reduce_mean(x_kernel) + tf.reduce_mean(y_kernel) - 2 * tf.reduce_mean(xy_kernel)\n",
    "\n",
    "    @tf.function\n",
    "    def _encoder_loss(self, latent_encoding: tf.Tensor):\n",
    "        # actual_dist = tf.random.normal(shape=(batch_size, self.latent_dim))\n",
    "        actual_dist = tf.random.normal(shape=latent_encoding.shape)\n",
    "        return self._compute_mmd(actual_dist, latent_encoding)\n",
    "\n",
    "    def _dssim_loss_scalar(self, shape, images):\n",
    "        actual_dist = tf.random.normal(shape=shape)\n",
    "        reconstruction = self.decoder(actual_dist, training=True)\n",
    "        # Compute SSIM over tf.float32 Tensors.\n",
    "        ssim2 = tf.image.ssim(images, reconstruction, max_val=1.0, filter_size=11,\n",
    "                            filter_sigma=1.5, k1=0.01, k2=0.03)\n",
    "        return (1-tf.reduce_mean(ssim2, axis=None))/2\n",
    "\n",
    "    @tf.function\n",
    "    def train(self, images: tf.Tensor):\n",
    "        loss = -1\n",
    "        with tf.GradientTape() as tape:\n",
    "            latent_encoding = self.encoder(images, training=True)\n",
    "            reconstruction = self.decoder(latent_encoding, training=True)\n",
    "            enc_loss = self._encoder_loss(latent_encoding)\n",
    "            rec_loss = losses.mean_squared_error(images, reconstruction)\n",
    "\n",
    "            # SSIM loss\n",
    "            dssim = self._dssim_loss_scalar(latent_encoding.shape, images)\n",
    "            loss = enc_loss + (rec_loss)*(1+dssim)\n",
    "        gradients = tape.gradient(loss, self.model.trainable_variables)\n",
    "        self.optimizer.apply_gradients(zip(gradients, self.model.trainable_variables))\n",
    "        return tf.reduce_mean(loss, axis=None)\n",
    "    \n",
    "    @tf.function\n",
    "    def get_loss(self, images: tf.Tensor):\n",
    "        \"\"\"Get loss for a given validation set\"\"\"\n",
    "        latent_encoding = self.encoder(images, training=False)\n",
    "        reconstruction = self.decoder(latent_encoding, training=False)\n",
    "        enc_loss = self._encoder_loss(latent_encoding)\n",
    "        rec_loss = losses.mean_squared_error(images, reconstruction)\n",
    "\n",
    "        return tf.math.reduce_mean(enc_loss + rec_loss, axis=None)\n",
    "\n",
    "    @tf.function\n",
    "    def random_reconstruction_sample(self, n):\n",
    "        \"\"\"Returns n reconstructed images\"\"\"\n",
    "        latent_encoding = tf.random.normal(shape=(n, self.latent_dim))\n",
    "        return self.decoder(latent_encoding, training=False)\n",
    "    \n",
    "model = InfoVAE(latent_dim)"
   ]
  },
  {
   "cell_type": "code",
   "execution_count": 4,
   "metadata": {},
   "outputs": [],
   "source": [
    "epochs = 10\n",
    "# set the dimensionality of the latent space to a plane for visualization later\n",
    "latent_dim = 2\n",
    "num_examples_to_generate = 16\n",
    "\n",
    "# keeping the random vector constant for generation (prediction) so\n",
    "# it will be easier to see the improvement.\n",
    "random_vector_for_generation = tf.random.normal(shape=[num_examples_to_generate, latent_dim])"
   ]
  },
  {
   "cell_type": "code",
   "execution_count": 6,
   "metadata": {},
   "outputs": [],
   "source": [
    "from config import output_dir\n",
    "\n",
    "def generate_and_save_images(model, epoch, random_vector_for_generation):\n",
    "    predictions = model.decoder(random_vector_for_generation)\n",
    "    fig = plt.figure(figsize=(4, 4))\n",
    "    print(\"pred shape\", predictions.shape)\n",
    "    for i in range(predictions.shape[0]):\n",
    "        plt.subplot(4, 4, i + 1)\n",
    "        plt.imshow(predictions[i, :, :, 0], cmap='gray')\n",
    "        plt.axis('off')\n",
    "\n",
    "    # tight_layout minimizes the overlap between 2 sub-plots\n",
    "    plt.savefig('{}/image_at_epoch_{:04d}.png'.format(output_dir, epoch))\n",
    "    plt.show()"
   ]
  },
  {
   "cell_type": "code",
   "execution_count": 7,
   "metadata": {},
   "outputs": [],
   "source": [
    "# Pick a sample of the test set for generating output images\n",
    "assert batch_size >= num_examples_to_generate\n",
    "for test_batch in test_dataset.take(1):\n",
    "    test_sample = test_batch"
   ]
  },
  {
   "cell_type": "code",
   "execution_count": 8,
   "metadata": {},
   "outputs": [
    {
     "name": "stdout",
     "output_type": "stream",
     "text": [
      "ssim: [0.51228124 0.5131095  0.51803166 0.5185662  0.51949096 0.5210721\n",
      " 0.52216023 0.52376866 0.52555686 0.52731514 0.5294992  0.53108484\n",
      " 0.51308644 0.53323585 0.5348435  0.53690064 0.5389139  0.5404614\n",
      " 0.5421357  0.5443806  0.54588354 0.5476122  0.54931325 0.5130577\n",
      " 0.5500348  0.55118585 0.5146371  0.5148961  0.5152998  0.51575726\n",
      " 0.51645136 0.5177215 ]\n",
      "max: 0.5511858463287354\n"
     ]
    }
   ],
   "source": [
    "def print_ssim():\n",
    "    first_batch = None\n",
    "    for t in test_dataset:\n",
    "        first_batch = t\n",
    "        break\n",
    "    latent_dist = tf.random.normal(shape=[32, latent_dim])\n",
    "    reconstruction = model.decoder(latent_dist)\n",
    "    ssim = tf.image.ssim(first_batch, reconstruction, max_val=1.0, filter_size=11,\n",
    "                            filter_sigma=1.5, k1=0.01, k2=0.03)\n",
    "    print(f\"ssim: {ssim}\")\n",
    "    print(f\"max: {tf.reduce_max(ssim, axis=None)}\")\n",
    "\n",
    "print_ssim()"
   ]
  },
  {
   "cell_type": "code",
   "execution_count": null,
   "metadata": {},
   "outputs": [
    {
     "name": "stdout",
     "output_type": "stream",
     "text": [
      "ssim: [0.68522096 0.680231   0.6892713  0.70196486 0.7065475  0.6900514\n",
      " 0.7016459  0.7063597  0.69950193 0.7013869  0.70559114 0.7064456\n",
      " 0.6897583  0.6891712  0.6924926  0.6912086  0.6928476  0.6719625\n",
      " 0.6679017  0.6692128  0.64773357 0.6535607  0.6387219  0.68047947\n",
      " 0.64514875 0.6235711  0.6835998  0.6823326  0.69233876 0.69423014\n",
      " 0.68193555 0.710663  ]\n",
      "max: 0.7106630206108093\n",
      "Epoch: 8, Test set Loss: 0.5897272229194641, Training set loss: 0.5405783653259277 time elapse for current epoch: 52.49791073799133\n",
      "pred shape (16, 256, 256, 1)\n"
     ]
    },
    {
     "data": {
      "image/png": "[encoded data removed]",
      "text/plain": [
       "<Figure size 288x288 with 16 Axes>"
      ]
     },
     "metadata": {
      "needs_background": "light"
     },
     "output_type": "display_data"
    }
   ],
   "source": [
    "generate_and_save_images(model, 0, random_vector_for_generation)\n",
    "\n",
    "for epoch in range(1, epochs + 1):\n",
    "    start_time = time.time()\n",
    "    training_loss = -1\n",
    "    for train_x in train_dataset:\n",
    "        training_loss = model.train(train_x)\n",
    "    end_time = time.time()\n",
    "    print_ssim()\n",
    "    test_loss = -1\n",
    "    for t in test_dataset:\n",
    "        test_loss = model.get_loss(t)\n",
    "        break\n",
    "    display.clear_output(wait=False)\n",
    "    print_ssim()\n",
    "    print('Epoch: {}, Test set Loss: {}, Training set loss: {} time elapse for current epoch: {}'\n",
    "        .format(epoch, test_loss, training_loss, end_time - start_time))\n",
    "    generate_and_save_images(model, epoch, random_vector_for_generation)"
   ]
  },
  {
   "cell_type": "code",
   "execution_count": null,
   "metadata": {},
   "outputs": [],
   "source": []
  }
 ],
 "metadata": {
  "kernelspec": {
   "display_name": "Python 3",
   "language": "python",
   "name": "python3"
  },
  "language_info": {
   "codemirror_mode": {
    "name": "ipython",
    "version": 3
   },
   "file_extension": ".py",
   "mimetype": "text/x-python",
   "name": "python",
   "nbconvert_exporter": "python",
   "pygments_lexer": "ipython3",
   "version": "3.7.9"
  }
 },
 "nbformat": 4,
 "nbformat_minor": 4
}
